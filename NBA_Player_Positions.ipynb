{
 "cells": [
  {
   "cell_type": "markdown",
   "metadata": {},
   "source": [
    "# Redefine NBA Player Positions\n",
    "This Notebook explores possibility of classifying players into n types, instead of the conventional 5 positions\n",
    "\n",
    "Data can be downloaded at https://www.basketball-reference.com"
   ]
  },
  {
   "cell_type": "code",
   "execution_count": 29,
   "metadata": {},
   "outputs": [],
   "source": [
    "# load libraries\n",
    "import pandas as pd\n",
    "import numpy as np\n",
    "from sklearn.decomposition import PCA"
   ]
  },
  {
   "cell_type": "code",
   "execution_count": 33,
   "metadata": {},
   "outputs": [],
   "source": [
    "# load data\n",
    "# 2017-18\n",
    "playerPerGame18 = pd.read_csv('2017_18_PlayerPerGame.csv')\n",
    "playerAdvanced18 = pd.read_csv('2017_18_PlayerAdvanced.csv')\n",
    "playerTotal18 = pd.read_csv('2017_18_PlayerTotals.csv')\n",
    "player36Mins18 = pd.read_csv('2017_18_PlayerPer36Minutes.csv')\n",
    "player100Poss18 = pd.read_csv('2017_18_PlayerPer100Poss.csv')\n",
    "\n",
    "# 2016-17\n",
    "# playerPerGame17 = pd.read_csv('2016_17_PlayerPerGame.csv')\n",
    "# playerAdvanced17 = pd.read_csv('2016_17_PlayerAdvanced.csv')\n",
    "# playerTotal17 = pd.read_csv('2016_17_PlayerTotals.csv')\n",
    "# player36Mins17 = pd.read_csv('2016_17_PlayerPer36Minutes.csv')\n",
    "# player100Poss17 = pd.read_csv('2016_17_PlayerPer100Poss.csv')\n",
    "\n",
    "# # 2015-16\n",
    "# playerPerGame16 = pd.read_csv('2015_16_PlayerPerGame.csv')\n",
    "# playerAdvanced16 = pd.read_csv('2015_16_PlayerAdvanced.csv')\n",
    "# playerTotal16 = pd.read_csv('2015_16_PlayerTotals.csv')\n",
    "# player36Mins16 = pd.read_csv('2015_16_PlayerPer36Minutes.csv')\n",
    "# player100Poss16 = pd.read_csv('2015_16_PlayerPer100Poss.csv')"
   ]
  },
  {
   "cell_type": "markdown",
   "metadata": {},
   "source": [
    "### Data Preparation\n",
    "Before the actual analysis, we need to clean and prepare the data.  \n",
    "There are 2 steps here:  \n",
    "1. Remove duplicates\n",
    "2. Remove players who played a total of less than 25 games in a season  \n",
    "  \n",
    "I am going to use data from the per game and advanced table"
   ]
  },
  {
   "cell_type": "code",
   "execution_count": 34,
   "metadata": {},
   "outputs": [],
   "source": [
    "# a nice thing about these data from basektball-reference.com is that\n",
    "# for players who played for more than one team, it already calculated \n",
    "# players overall (aggregated) statistics and placed at the first row of that player\n",
    "\n",
    "playerPerGame18 = playerPerGame18.drop_duplicates(['Player'], keep=\"first\")\n",
    "playerAdvanced18 = playerAdvanced18.drop_duplicates(['Player'], keep=\"first\")"
   ]
  },
  {
   "cell_type": "code",
   "execution_count": 35,
   "metadata": {},
   "outputs": [],
   "source": [
    "# filter players who played at least 25 games and played at least 15 minutes a game\n",
    "minimum_games = 25\n",
    "minimum_minutes = 15\n",
    "PlayerPerGame = playerPerGame18[playerPerGame18['G'] >= minimum_games]\n",
    "PlayerPerGame = playerPerGame18[playerPerGame18['MP'] >= minimum_minutes]"
   ]
  },
  {
   "cell_type": "code",
   "execution_count": 36,
   "metadata": {},
   "outputs": [
    {
     "name": "stderr",
     "output_type": "stream",
     "text": [
      "/Users/dj30/anaconda3/lib/python3.7/site-packages/pandas/core/frame.py:4034: SettingWithCopyWarning: \n",
      "A value is trying to be set on a copy of a slice from a DataFrame\n",
      "\n",
      "See the caveats in the documentation: http://pandas.pydata.org/pandas-docs/stable/indexing.html#indexing-view-versus-copy\n",
      "  downcast=downcast, **kwargs)\n"
     ]
    }
   ],
   "source": [
    "PlayerPerGame.fillna(0, inplace = True)"
   ]
  },
  {
   "cell_type": "markdown",
   "metadata": {},
   "source": [
    "### Principal Component Analysis\n",
    "\n",
    "Principal Component Analysis is a dimension reduction method. "
   ]
  },
  {
   "cell_type": "code",
   "execution_count": 38,
   "metadata": {},
   "outputs": [
    {
     "data": {
      "text/plain": [
       "30"
      ]
     },
     "execution_count": 38,
     "metadata": {},
     "output_type": "execute_result"
    }
   ],
   "source": [
    "# Here we see that we have 30 columns in this table, and most likely that not all of these columns will be\n",
    "# important to our analysis\n",
    "len(PlayerPerGame.columns)"
   ]
  },
  {
   "cell_type": "code",
   "execution_count": 30,
   "metadata": {},
   "outputs": [
    {
     "data": {
      "text/html": [
       "<div>\n",
       "<style scoped>\n",
       "    .dataframe tbody tr th:only-of-type {\n",
       "        vertical-align: middle;\n",
       "    }\n",
       "\n",
       "    .dataframe tbody tr th {\n",
       "        vertical-align: top;\n",
       "    }\n",
       "\n",
       "    .dataframe thead th {\n",
       "        text-align: right;\n",
       "    }\n",
       "</style>\n",
       "<table border=\"1\" class=\"dataframe\">\n",
       "  <thead>\n",
       "    <tr style=\"text-align: right;\">\n",
       "      <th></th>\n",
       "      <th>Rk</th>\n",
       "      <th>Player</th>\n",
       "      <th>Pos</th>\n",
       "      <th>Age</th>\n",
       "      <th>Tm</th>\n",
       "      <th>G</th>\n",
       "      <th>GS</th>\n",
       "      <th>MP</th>\n",
       "      <th>FG</th>\n",
       "      <th>FGA</th>\n",
       "      <th>...</th>\n",
       "      <th>FT%</th>\n",
       "      <th>ORB</th>\n",
       "      <th>DRB</th>\n",
       "      <th>TRB</th>\n",
       "      <th>AST</th>\n",
       "      <th>STL</th>\n",
       "      <th>BLK</th>\n",
       "      <th>TOV</th>\n",
       "      <th>PF</th>\n",
       "      <th>PS/G</th>\n",
       "    </tr>\n",
       "  </thead>\n",
       "  <tbody>\n",
       "    <tr>\n",
       "      <th>0</th>\n",
       "      <td>1</td>\n",
       "      <td>Alex Abrines\\abrinal01</td>\n",
       "      <td>SG</td>\n",
       "      <td>24</td>\n",
       "      <td>OKC</td>\n",
       "      <td>75</td>\n",
       "      <td>8</td>\n",
       "      <td>15.1</td>\n",
       "      <td>1.5</td>\n",
       "      <td>3.9</td>\n",
       "      <td>...</td>\n",
       "      <td>0.848</td>\n",
       "      <td>0.3</td>\n",
       "      <td>1.2</td>\n",
       "      <td>1.5</td>\n",
       "      <td>0.4</td>\n",
       "      <td>0.5</td>\n",
       "      <td>0.1</td>\n",
       "      <td>0.3</td>\n",
       "      <td>1.7</td>\n",
       "      <td>4.7</td>\n",
       "    </tr>\n",
       "    <tr>\n",
       "      <th>1</th>\n",
       "      <td>2</td>\n",
       "      <td>Quincy Acy\\acyqu01</td>\n",
       "      <td>PF</td>\n",
       "      <td>27</td>\n",
       "      <td>BRK</td>\n",
       "      <td>70</td>\n",
       "      <td>8</td>\n",
       "      <td>19.4</td>\n",
       "      <td>1.9</td>\n",
       "      <td>5.2</td>\n",
       "      <td>...</td>\n",
       "      <td>0.817</td>\n",
       "      <td>0.6</td>\n",
       "      <td>3.1</td>\n",
       "      <td>3.7</td>\n",
       "      <td>0.8</td>\n",
       "      <td>0.5</td>\n",
       "      <td>0.4</td>\n",
       "      <td>0.9</td>\n",
       "      <td>2.1</td>\n",
       "      <td>5.9</td>\n",
       "    </tr>\n",
       "    <tr>\n",
       "      <th>2</th>\n",
       "      <td>3</td>\n",
       "      <td>Steven Adams\\adamsst01</td>\n",
       "      <td>C</td>\n",
       "      <td>24</td>\n",
       "      <td>OKC</td>\n",
       "      <td>76</td>\n",
       "      <td>76</td>\n",
       "      <td>32.7</td>\n",
       "      <td>5.9</td>\n",
       "      <td>9.4</td>\n",
       "      <td>...</td>\n",
       "      <td>0.559</td>\n",
       "      <td>5.1</td>\n",
       "      <td>4.0</td>\n",
       "      <td>9.0</td>\n",
       "      <td>1.2</td>\n",
       "      <td>1.2</td>\n",
       "      <td>1.0</td>\n",
       "      <td>1.7</td>\n",
       "      <td>2.8</td>\n",
       "      <td>13.9</td>\n",
       "    </tr>\n",
       "    <tr>\n",
       "      <th>3</th>\n",
       "      <td>4</td>\n",
       "      <td>Bam Adebayo\\adebaba01</td>\n",
       "      <td>C</td>\n",
       "      <td>20</td>\n",
       "      <td>MIA</td>\n",
       "      <td>69</td>\n",
       "      <td>19</td>\n",
       "      <td>19.8</td>\n",
       "      <td>2.5</td>\n",
       "      <td>4.9</td>\n",
       "      <td>...</td>\n",
       "      <td>0.721</td>\n",
       "      <td>1.7</td>\n",
       "      <td>3.8</td>\n",
       "      <td>5.5</td>\n",
       "      <td>1.5</td>\n",
       "      <td>0.5</td>\n",
       "      <td>0.6</td>\n",
       "      <td>1.0</td>\n",
       "      <td>2.0</td>\n",
       "      <td>6.9</td>\n",
       "    </tr>\n",
       "    <tr>\n",
       "      <th>4</th>\n",
       "      <td>5</td>\n",
       "      <td>Arron Afflalo\\afflaar01</td>\n",
       "      <td>SG</td>\n",
       "      <td>32</td>\n",
       "      <td>ORL</td>\n",
       "      <td>53</td>\n",
       "      <td>3</td>\n",
       "      <td>12.9</td>\n",
       "      <td>1.2</td>\n",
       "      <td>3.1</td>\n",
       "      <td>...</td>\n",
       "      <td>0.846</td>\n",
       "      <td>0.1</td>\n",
       "      <td>1.2</td>\n",
       "      <td>1.2</td>\n",
       "      <td>0.6</td>\n",
       "      <td>0.1</td>\n",
       "      <td>0.2</td>\n",
       "      <td>0.4</td>\n",
       "      <td>1.1</td>\n",
       "      <td>3.4</td>\n",
       "    </tr>\n",
       "  </tbody>\n",
       "</table>\n",
       "<p>5 rows × 30 columns</p>\n",
       "</div>"
      ],
      "text/plain": [
       "   Rk                   Player Pos  Age   Tm   G  GS    MP   FG  FGA  ...  \\\n",
       "0   1   Alex Abrines\\abrinal01  SG   24  OKC  75   8  15.1  1.5  3.9  ...   \n",
       "1   2       Quincy Acy\\acyqu01  PF   27  BRK  70   8  19.4  1.9  5.2  ...   \n",
       "2   3   Steven Adams\\adamsst01   C   24  OKC  76  76  32.7  5.9  9.4  ...   \n",
       "3   4    Bam Adebayo\\adebaba01   C   20  MIA  69  19  19.8  2.5  4.9  ...   \n",
       "4   5  Arron Afflalo\\afflaar01  SG   32  ORL  53   3  12.9  1.2  3.1  ...   \n",
       "\n",
       "     FT%  ORB  DRB  TRB  AST  STL  BLK  TOV   PF  PS/G  \n",
       "0  0.848  0.3  1.2  1.5  0.4  0.5  0.1  0.3  1.7   4.7  \n",
       "1  0.817  0.6  3.1  3.7  0.8  0.5  0.4  0.9  2.1   5.9  \n",
       "2  0.559  5.1  4.0  9.0  1.2  1.2  1.0  1.7  2.8  13.9  \n",
       "3  0.721  1.7  3.8  5.5  1.5  0.5  0.6  1.0  2.0   6.9  \n",
       "4  0.846  0.1  1.2  1.2  0.6  0.1  0.2  0.4  1.1   3.4  \n",
       "\n",
       "[5 rows x 30 columns]"
      ]
     },
     "execution_count": 30,
     "metadata": {},
     "output_type": "execute_result"
    }
   ],
   "source": [
    "# before PCA\n",
    "PlayerPerGame.head()"
   ]
  },
  {
   "cell_type": "code",
   "execution_count": null,
   "metadata": {},
   "outputs": [],
   "source": []
  },
  {
   "cell_type": "code",
   "execution_count": null,
   "metadata": {},
   "outputs": [],
   "source": [
    "# There is one more step before actually performing PCA, and that is to standardize the data. \n",
    "# This is a requirement for PCA."
   ]
  },
  {
   "cell_type": "code",
   "execution_count": null,
   "metadata": {},
   "outputs": [],
   "source": [
    "# after PCA\n",
    "PlayerPerGame.head()"
   ]
  }
 ],
 "metadata": {
  "kernelspec": {
   "display_name": "Python 3",
   "language": "python",
   "name": "python3"
  },
  "language_info": {
   "codemirror_mode": {
    "name": "ipython",
    "version": 3
   },
   "file_extension": ".py",
   "mimetype": "text/x-python",
   "name": "python",
   "nbconvert_exporter": "python",
   "pygments_lexer": "ipython3",
   "version": "3.7.3"
  }
 },
 "nbformat": 4,
 "nbformat_minor": 2
}
